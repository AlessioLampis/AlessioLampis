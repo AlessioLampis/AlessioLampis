{
  "nbformat": 4,
  "nbformat_minor": 0,
  "metadata": {
    "colab": {
      "name": "Copy of Sound classification by Alessio",
      "provenance": [],
      "toc_visible": true,
      "mount_file_id": "1z4xjkPlI-TI5waBI6eFSh6ueu4AuKvJs",
      "authorship_tag": "ABX9TyNZ3CmPtoNQiu9g5dXx/tqX",
      "include_colab_link": true
    },
    "kernelspec": {
      "name": "python3",
      "display_name": "Python 3"
    }
  },
  "cells": [
    {
      "cell_type": "markdown",
      "metadata": {
        "id": "view-in-github",
        "colab_type": "text"
      },
      "source": [
        "<a href=\"https://colab.research.google.com/github/AlessioLampis/AlessioLampis/blob/master/Copy_of_Sound_classification_by_Alessio.ipynb\" target=\"_parent\"><img src=\"https://colab.research.google.com/assets/colab-badge.svg\" alt=\"Open In Colab\"/></a>"
      ]
    },
    {
      "cell_type": "markdown",
      "metadata": {
        "id": "U2pWH0wah9bG",
        "colab_type": "text"
      },
      "source": [
        "###This fist part connects the google drive account and loads the urbansound8k data in google collab"
      ]
    },
    {
      "cell_type": "code",
      "metadata": {
        "id": "vYa3Z8Vb_BPS",
        "colab_type": "code",
        "outputId": "c037a14d-d5c3-46b3-c69d-a0ca6e6584b2",
        "colab": {
          "base_uri": "https://localhost:8080/",
          "height": 122
        }
      },
      "source": [
        "from google.colab import drive\n",
        "drive.mount('/content/gdrive')"
      ],
      "execution_count": 1,
      "outputs": [
        {
          "output_type": "stream",
          "text": [
            "Go to this URL in a browser: https://accounts.google.com/o/oauth2/auth?client_id=947318989803-6bn6qk8qdgf4n4g3pfee6491hc0brc4i.apps.googleusercontent.com&redirect_uri=urn%3aietf%3awg%3aoauth%3a2.0%3aoob&response_type=code&scope=email%20https%3a%2f%2fwww.googleapis.com%2fauth%2fdocs.test%20https%3a%2f%2fwww.googleapis.com%2fauth%2fdrive%20https%3a%2f%2fwww.googleapis.com%2fauth%2fdrive.photos.readonly%20https%3a%2f%2fwww.googleapis.com%2fauth%2fpeopleapi.readonly\n",
            "\n",
            "Enter your authorization code:\n",
            "··········\n",
            "Mounted at /content/gdrive\n"
          ],
          "name": "stdout"
        }
      ]
    },
    {
      "cell_type": "code",
      "metadata": {
        "id": "6CroYgqyCYdA",
        "colab_type": "code",
        "outputId": "e3a8f675-ec8b-40bf-d7e2-5c38ac2dad4a",
        "colab": {
          "base_uri": "https://localhost:8080/",
          "height": 54
        }
      },
      "source": [
        "from google.colab import drive\n",
        "\n",
        "drive.mount('/content/gdrive')\n",
        "root_path = 'gdrive/My Drive/'  #change dir to your project folder"
      ],
      "execution_count": 2,
      "outputs": [
        {
          "output_type": "stream",
          "text": [
            "Drive already mounted at /content/gdrive; to attempt to forcibly remount, call drive.mount(\"/content/gdrive\", force_remount=True).\n"
          ],
          "name": "stdout"
        }
      ]
    },
    {
      "cell_type": "markdown",
      "metadata": {
        "id": "yAeW6EoHAAQc",
        "colab_type": "text"
      },
      "source": [
        "# Sound classification"
      ]
    },
    {
      "cell_type": "markdown",
      "metadata": {
        "id": "BMuQZ337cIb3",
        "colab_type": "text"
      },
      "source": [
        "Data Analysis"
      ]
    },
    {
      "cell_type": "code",
      "metadata": {
        "id": "MVfUuI1XJgFE",
        "colab_type": "code",
        "colab": {}
      },
      "source": [
        "#import all necessary libraries\n",
        "import os\n",
        "import pandas as pd\n",
        "import IPython as IP\n",
        "import struct\n",
        "import matplotlib.pyplot as plt\n",
        "import numpy as np\n",
        "import librosa\n",
        "#import helpers\n",
        "#from include import helpers"
      ],
      "execution_count": 0,
      "outputs": []
    },
    {
      "cell_type": "code",
      "metadata": {
        "id": "iwOSjyVMReOk",
        "colab_type": "code",
        "outputId": "3d612e36-46ee-48f0-fd56-45a090341140",
        "colab": {
          "base_uri": "https://localhost:8080/",
          "height": 51
        }
      },
      "source": [
        "#set the path to the original dataset\n",
        "us8k_path = 'gdrive/My Drive/urbansound8k'\n",
        "print(us8k_path)\n",
        "# Global settings\n",
        "metadata_path = us8k_path + '/UrbanSound8K.csv'\n",
        "print(metadata_path)\n"
      ],
      "execution_count": 5,
      "outputs": [
        {
          "output_type": "stream",
          "text": [
            "gdrive/My Drive/urbansound8k\n",
            "gdrive/My Drive/urbansound8k/UrbanSound8K.csv\n"
          ],
          "name": "stdout"
        }
      ]
    },
    {
      "cell_type": "code",
      "metadata": {
        "id": "a4KNB05rAVO8",
        "colab_type": "code",
        "outputId": "d96515f4-73a4-4a89-b4be-08571a014c53",
        "colab": {
          "base_uri": "https://localhost:8080/",
          "height": 204
        }
      },
      "source": [
        "# Load metadata as a Pandas dataframe\n",
        "metadata = pd.read_csv(metadata_path)\n",
        "\n",
        "# Examine dataframe's head\n",
        "metadata.head()"
      ],
      "execution_count": 6,
      "outputs": [
        {
          "output_type": "execute_result",
          "data": {
            "text/html": [
              "<div>\n",
              "<style scoped>\n",
              "    .dataframe tbody tr th:only-of-type {\n",
              "        vertical-align: middle;\n",
              "    }\n",
              "\n",
              "    .dataframe tbody tr th {\n",
              "        vertical-align: top;\n",
              "    }\n",
              "\n",
              "    .dataframe thead th {\n",
              "        text-align: right;\n",
              "    }\n",
              "</style>\n",
              "<table border=\"1\" class=\"dataframe\">\n",
              "  <thead>\n",
              "    <tr style=\"text-align: right;\">\n",
              "      <th></th>\n",
              "      <th>slice_file_name</th>\n",
              "      <th>fsID</th>\n",
              "      <th>start</th>\n",
              "      <th>end</th>\n",
              "      <th>salience</th>\n",
              "      <th>fold</th>\n",
              "      <th>classID</th>\n",
              "      <th>class</th>\n",
              "    </tr>\n",
              "  </thead>\n",
              "  <tbody>\n",
              "    <tr>\n",
              "      <th>0</th>\n",
              "      <td>100032-3-0-0.wav</td>\n",
              "      <td>100032</td>\n",
              "      <td>0.0</td>\n",
              "      <td>0.317551</td>\n",
              "      <td>1</td>\n",
              "      <td>5</td>\n",
              "      <td>3</td>\n",
              "      <td>dog_bark</td>\n",
              "    </tr>\n",
              "    <tr>\n",
              "      <th>1</th>\n",
              "      <td>100263-2-0-117.wav</td>\n",
              "      <td>100263</td>\n",
              "      <td>58.5</td>\n",
              "      <td>62.500000</td>\n",
              "      <td>1</td>\n",
              "      <td>5</td>\n",
              "      <td>2</td>\n",
              "      <td>children_playing</td>\n",
              "    </tr>\n",
              "    <tr>\n",
              "      <th>2</th>\n",
              "      <td>100263-2-0-121.wav</td>\n",
              "      <td>100263</td>\n",
              "      <td>60.5</td>\n",
              "      <td>64.500000</td>\n",
              "      <td>1</td>\n",
              "      <td>5</td>\n",
              "      <td>2</td>\n",
              "      <td>children_playing</td>\n",
              "    </tr>\n",
              "    <tr>\n",
              "      <th>3</th>\n",
              "      <td>100263-2-0-126.wav</td>\n",
              "      <td>100263</td>\n",
              "      <td>63.0</td>\n",
              "      <td>67.000000</td>\n",
              "      <td>1</td>\n",
              "      <td>5</td>\n",
              "      <td>2</td>\n",
              "      <td>children_playing</td>\n",
              "    </tr>\n",
              "    <tr>\n",
              "      <th>4</th>\n",
              "      <td>100263-2-0-137.wav</td>\n",
              "      <td>100263</td>\n",
              "      <td>68.5</td>\n",
              "      <td>72.500000</td>\n",
              "      <td>1</td>\n",
              "      <td>5</td>\n",
              "      <td>2</td>\n",
              "      <td>children_playing</td>\n",
              "    </tr>\n",
              "  </tbody>\n",
              "</table>\n",
              "</div>"
            ],
            "text/plain": [
              "      slice_file_name    fsID  start  ...  fold  classID             class\n",
              "0    100032-3-0-0.wav  100032    0.0  ...     5        3          dog_bark\n",
              "1  100263-2-0-117.wav  100263   58.5  ...     5        2  children_playing\n",
              "2  100263-2-0-121.wav  100263   60.5  ...     5        2  children_playing\n",
              "3  100263-2-0-126.wav  100263   63.0  ...     5        2  children_playing\n",
              "4  100263-2-0-137.wav  100263   68.5  ...     5        2  children_playing\n",
              "\n",
              "[5 rows x 8 columns]"
            ]
          },
          "metadata": {
            "tags": []
          },
          "execution_count": 6
        }
      ]
    },
    {
      "cell_type": "code",
      "metadata": {
        "id": "JTwkffBFh-vx",
        "colab_type": "code",
        "outputId": "42da6720-d1e1-4bb4-e6b5-c6fd92e5bb83",
        "colab": {
          "base_uri": "https://localhost:8080/",
          "height": 204
        }
      },
      "source": [
        "# Class distribution\n",
        "metadata['class'].value_counts()"
      ],
      "execution_count": 7,
      "outputs": [
        {
          "output_type": "execute_result",
          "data": {
            "text/plain": [
              "jackhammer          1000\n",
              "drilling            1000\n",
              "air_conditioner     1000\n",
              "engine_idling       1000\n",
              "street_music        1000\n",
              "dog_bark            1000\n",
              "children_playing    1000\n",
              "siren                929\n",
              "car_horn             429\n",
              "gun_shot             374\n",
              "Name: class, dtype: int64"
            ]
          },
          "metadata": {
            "tags": []
          },
          "execution_count": 7
        }
      ]
    },
    {
      "cell_type": "code",
      "metadata": {
        "id": "kJhCz4dnquPs",
        "colab_type": "code",
        "colab": {}
      },
      "source": [
        "def extract_features(file_name):\n",
        "\n",
        "        X, sample_rate = librosa.load(file_name, res_type='kaiser_fast') \n",
        "        mfccs = librosa.feature.mfcc(y=X, sr=sample_rate, n_mfcc=40)\n",
        "        mfccs_scaled = np.mean(mfccs.T,axis=0)\n",
        "       \treturn mfccs_scaled\n",
        "\n",
        "\n",
        "features = []\n",
        "\n",
        "# Iterate through each sound file and extract the features \n",
        "for index, row in metadata.iterrows():\n",
        "    \n",
        "    file_name = us8k_path + '/' + 'fold'+ str(row[\"fold\"]) + '/' + str(row[\"slice_file_name\"])\n",
        "    class_label = row[\"class\"]\n",
        "    fold = row[\"fold\"]\n",
        "    data = extract_features(file_name)\n",
        "    \n",
        "    features.append([data, class_label,fold])\n",
        "\n",
        "# Convert into a Panda dataframe \n",
        "featuresdf = pd.DataFrame(features, columns=['feature','class_label','fold'])"
      ],
      "execution_count": 0,
      "outputs": []
    },
    {
      "cell_type": "code",
      "metadata": {
        "id": "IcYVWmVsmET7",
        "colab_type": "code",
        "colab": {}
      },
      "source": [
        "#define a function that extract the features\n",
        "#audio, sample_rate = librosa.load(file_name, res_type='kaiser_fast') \n",
        "audio, sample_rate = librosa.load(file_name, res_type='kaiser_fast');\n"
      ],
      "execution_count": 0,
      "outputs": []
    },
    {
      "cell_type": "code",
      "metadata": {
        "id": "gy54meA_pr9p",
        "colab_type": "code",
        "colab": {}
      },
      "source": [
        "#extract the Mel coefficients\n",
        "mfccs = librosa.feature.mfcc(y=audio, sr=sample_rate, n_mfcc=40); #the number of elements of the MFCCS is set in n_mfcc \n",
        "#Why does it calculate a mean value?\n",
        "mfccsscaled = np.mean(mfccs.T,axis=0); #mfccs.T computes the transpose!! Let's scale the MFCCs such that each coefficient dimension has zero mean \n",
        "len(mfccsscaled)\n"
      ],
      "execution_count": 0,
      "outputs": []
    },
    {
      "cell_type": "markdown",
      "metadata": {
        "id": "oBqZtvxPzanW",
        "colab_type": "text"
      },
      "source": [
        "Converting the data and labels then splitting the dataset\n"
      ]
    },
    {
      "cell_type": "code",
      "metadata": {
        "id": "SVpDxr8DzZX9",
        "colab_type": "code",
        "colab": {}
      },
      "source": [
        "from sklearn.preprocessing import LabelEncoder\n",
        "from keras.utils import to_categorical\n",
        "\n"
      ],
      "execution_count": 0,
      "outputs": []
    }
  ]
}