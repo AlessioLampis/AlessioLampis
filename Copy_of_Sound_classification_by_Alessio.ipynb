{
  "nbformat": 4,
  "nbformat_minor": 0,
  "metadata": {
    "colab": {
      "name": "Copy of Sound classification by Alessio",
      "provenance": [],
      "toc_visible": true,
      "mount_file_id": "1z4xjkPlI-TI5waBI6eFSh6ueu4AuKvJs",
      "authorship_tag": "ABX9TyMkI1RbXruQeCt9k3hKACqI",
      "include_colab_link": true
    },
    "kernelspec": {
      "name": "python3",
      "display_name": "Python 3"
    }
  },
  "cells": [
    {
      "cell_type": "markdown",
      "metadata": {
        "id": "view-in-github",
        "colab_type": "text"
      },
      "source": [
        "<a href=\"https://colab.research.google.com/github/AlessioLampis/AlessioLampis/blob/master/Copy_of_Sound_classification_by_Alessio.ipynb\" target=\"_parent\"><img src=\"https://colab.research.google.com/assets/colab-badge.svg\" alt=\"Open In Colab\"/></a>"
      ]
    },
    {
      "cell_type": "markdown",
      "metadata": {
        "id": "U2pWH0wah9bG",
        "colab_type": "text"
      },
      "source": [
        "###This fist part connects the google drive account and loads the urbansound8k data in google collab"
      ]
    },
    {
      "cell_type": "code",
      "metadata": {
        "id": "vYa3Z8Vb_BPS",
        "colab_type": "code",
        "outputId": "c037a14d-d5c3-46b3-c69d-a0ca6e6584b2",
        "colab": {
          "base_uri": "https://localhost:8080/",
          "height": 122
        }
      },
      "source": [
        "from google.colab import drive\n",
        "drive.mount('/content/gdrive')"
      ],
      "execution_count": 1,
      "outputs": [
        {
          "output_type": "stream",
          "text": [
            "Go to this URL in a browser: https://accounts.google.com/o/oauth2/auth?client_id=947318989803-6bn6qk8qdgf4n4g3pfee6491hc0brc4i.apps.googleusercontent.com&redirect_uri=urn%3aietf%3awg%3aoauth%3a2.0%3aoob&response_type=code&scope=email%20https%3a%2f%2fwww.googleapis.com%2fauth%2fdocs.test%20https%3a%2f%2fwww.googleapis.com%2fauth%2fdrive%20https%3a%2f%2fwww.googleapis.com%2fauth%2fdrive.photos.readonly%20https%3a%2f%2fwww.googleapis.com%2fauth%2fpeopleapi.readonly\n",
            "\n",
            "Enter your authorization code:\n",
            "··········\n",
            "Mounted at /content/gdrive\n"
          ],
          "name": "stdout"
        }
      ]
    },
    {
      "cell_type": "code",
      "metadata": {
        "id": "6CroYgqyCYdA",
        "colab_type": "code",
        "outputId": "e3a8f675-ec8b-40bf-d7e2-5c38ac2dad4a",
        "colab": {
          "base_uri": "https://localhost:8080/",
          "height": 54
        }
      },
      "source": [
        "from google.colab import drive\n",
        "\n",
        "drive.mount('/content/gdrive')\n",
        "root_path = 'gdrive/My Drive/'  #change dir to your project folder"
      ],
      "execution_count": 2,
      "outputs": [
        {
          "output_type": "stream",
          "text": [
            "Drive already mounted at /content/gdrive; to attempt to forcibly remount, call drive.mount(\"/content/gdrive\", force_remount=True).\n"
          ],
          "name": "stdout"
        }
      ]
    },
    {
      "cell_type": "markdown",
      "metadata": {
        "id": "yAeW6EoHAAQc",
        "colab_type": "text"
      },
      "source": [
        "# Sound classification"
      ]
    },
    {
      "cell_type": "markdown",
      "metadata": {
        "id": "BMuQZ337cIb3",
        "colab_type": "text"
      },
      "source": [
        "Data Analysis"
      ]
    },
    {
      "cell_type": "code",
      "metadata": {
        "id": "MVfUuI1XJgFE",
        "colab_type": "code",
        "colab": {}
      },
      "source": [
        "#import all necessary libraries\n",
        "import os\n",
        "import pandas as pd\n",
        "import IPython as IP\n",
        "import struct\n",
        "import matplotlib.pyplot as plt\n",
        "import numpy as np\n",
        "import librosa\n",
        "#import helpers\n",
        "#from include import helpers"
      ],
      "execution_count": 0,
      "outputs": []
    },
    {
      "cell_type": "code",
      "metadata": {
        "id": "iwOSjyVMReOk",
        "colab_type": "code",
        "outputId": "3d612e36-46ee-48f0-fd56-45a090341140",
        "colab": {
          "base_uri": "https://localhost:8080/",
          "height": 51
        }
      },
      "source": [
        "#set the path to the original dataset\n",
        "us8k_path = 'gdrive/My Drive/urbansound8k'\n",
        "print(us8k_path)\n",
        "# Global settings\n",
        "metadata_path = us8k_path + '/UrbanSound8K.csv'\n",
        "print(metadata_path)\n"
      ],
      "execution_count": 5,
      "outputs": [
        {
          "output_type": "stream",
          "text": [
            "gdrive/My Drive/urbansound8k\n",
            "gdrive/My Drive/urbansound8k/UrbanSound8K.csv\n"
          ],
          "name": "stdout"
        }
      ]
    },
    {
      "cell_type": "code",
      "metadata": {
        "id": "a4KNB05rAVO8",
        "colab_type": "code",
        "outputId": "d96515f4-73a4-4a89-b4be-08571a014c53",
        "colab": {
          "base_uri": "https://localhost:8080/",
          "height": 204
        }
      },
      "source": [
        "# Load metadata as a Pandas dataframe\n",
        "metadata = pd.read_csv(metadata_path)\n",
        "\n",
        "# Examine dataframe's head\n",
        "metadata.head()"
      ],
      "execution_count": 6,
      "outputs": [
        {
          "output_type": "execute_result",
          "data": {
            "text/html": [
              "<div>\n",
              "<style scoped>\n",
              "    .dataframe tbody tr th:only-of-type {\n",
              "        vertical-align: middle;\n",
              "    }\n",
              "\n",
              "    .dataframe tbody tr th {\n",
              "        vertical-align: top;\n",
              "    }\n",
              "\n",
              "    .dataframe thead th {\n",
              "        text-align: right;\n",
              "    }\n",
              "</style>\n",
              "<table border=\"1\" class=\"dataframe\">\n",
              "  <thead>\n",
              "    <tr style=\"text-align: right;\">\n",
              "      <th></th>\n",
              "      <th>slice_file_name</th>\n",
              "      <th>fsID</th>\n",
              "      <th>start</th>\n",
              "      <th>end</th>\n",
              "      <th>salience</th>\n",
              "      <th>fold</th>\n",
              "      <th>classID</th>\n",
              "      <th>class</th>\n",
              "    </tr>\n",
              "  </thead>\n",
              "  <tbody>\n",
              "    <tr>\n",
              "      <th>0</th>\n",
              "      <td>100032-3-0-0.wav</td>\n",
              "      <td>100032</td>\n",
              "      <td>0.0</td>\n",
              "      <td>0.317551</td>\n",
              "      <td>1</td>\n",
              "      <td>5</td>\n",
              "      <td>3</td>\n",
              "      <td>dog_bark</td>\n",
              "    </tr>\n",
              "    <tr>\n",
              "      <th>1</th>\n",
              "      <td>100263-2-0-117.wav</td>\n",
              "      <td>100263</td>\n",
              "      <td>58.5</td>\n",
              "      <td>62.500000</td>\n",
              "      <td>1</td>\n",
              "      <td>5</td>\n",
              "      <td>2</td>\n",
              "      <td>children_playing</td>\n",
              "    </tr>\n",
              "    <tr>\n",
              "      <th>2</th>\n",
              "      <td>100263-2-0-121.wav</td>\n",
              "      <td>100263</td>\n",
              "      <td>60.5</td>\n",
              "      <td>64.500000</td>\n",
              "      <td>1</td>\n",
              "      <td>5</td>\n",
              "      <td>2</td>\n",
              "      <td>children_playing</td>\n",
              "    </tr>\n",
              "    <tr>\n",
              "      <th>3</th>\n",
              "      <td>100263-2-0-126.wav</td>\n",
              "      <td>100263</td>\n",
              "      <td>63.0</td>\n",
              "      <td>67.000000</td>\n",
              "      <td>1</td>\n",
              "      <td>5</td>\n",
              "      <td>2</td>\n",
              "      <td>children_playing</td>\n",
              "    </tr>\n",
              "    <tr>\n",
              "      <th>4</th>\n",
              "      <td>100263-2-0-137.wav</td>\n",
              "      <td>100263</td>\n",
              "      <td>68.5</td>\n",
              "      <td>72.500000</td>\n",
              "      <td>1</td>\n",
              "      <td>5</td>\n",
              "      <td>2</td>\n",
              "      <td>children_playing</td>\n",
              "    </tr>\n",
              "  </tbody>\n",
              "</table>\n",
              "</div>"
            ],
            "text/plain": [
              "      slice_file_name    fsID  start  ...  fold  classID             class\n",
              "0    100032-3-0-0.wav  100032    0.0  ...     5        3          dog_bark\n",
              "1  100263-2-0-117.wav  100263   58.5  ...     5        2  children_playing\n",
              "2  100263-2-0-121.wav  100263   60.5  ...     5        2  children_playing\n",
              "3  100263-2-0-126.wav  100263   63.0  ...     5        2  children_playing\n",
              "4  100263-2-0-137.wav  100263   68.5  ...     5        2  children_playing\n",
              "\n",
              "[5 rows x 8 columns]"
            ]
          },
          "metadata": {
            "tags": []
          },
          "execution_count": 6
        }
      ]
    },
    {
      "cell_type": "code",
      "metadata": {
        "id": "JTwkffBFh-vx",
        "colab_type": "code",
        "outputId": "42da6720-d1e1-4bb4-e6b5-c6fd92e5bb83",
        "colab": {
          "base_uri": "https://localhost:8080/",
          "height": 204
        }
      },
      "source": [
        "# Class distribution\n",
        "metadata['class'].value_counts()"
      ],
      "execution_count": 7,
      "outputs": [
        {
          "output_type": "execute_result",
          "data": {
            "text/plain": [
              "jackhammer          1000\n",
              "drilling            1000\n",
              "air_conditioner     1000\n",
              "engine_idling       1000\n",
              "street_music        1000\n",
              "dog_bark            1000\n",
              "children_playing    1000\n",
              "siren                929\n",
              "car_horn             429\n",
              "gun_shot             374\n",
              "Name: class, dtype: int64"
            ]
          },
          "metadata": {
            "tags": []
          },
          "execution_count": 7
        }
      ]
    },
    {
      "cell_type": "code",
      "metadata": {
        "id": "kJhCz4dnquPs",
        "colab_type": "code",
        "colab": {}
      },
      "source": [
        "def extract_features(file_name):\n",
        "\n",
        "        X, sample_rate = librosa.load(file_name, res_type='kaiser_fast') \n",
        "        mfccs = librosa.feature.mfcc(y=X, sr=sample_rate, n_mfcc=40)\n",
        "        mfccs_scaled = np.mean(mfccs.T,axis=0)\n",
        "       \treturn mfccs_scaled\n",
        "\n",
        "\n",
        "features = []\n",
        "\n",
        "# Iterate through each sound file and extract the features \n",
        "for index, row in metadata.iterrows():\n",
        "    \n",
        "    file_name = us8k_path + '/' + 'fold'+ str(row[\"fold\"]) + '/' + str(row[\"slice_file_name\"])\n",
        "    class_label = row[\"class\"]\n",
        "    fold = row[\"fold\"]\n",
        "    data = extract_features(file_name)\n",
        "    \n",
        "    features.append([data, class_label,fold])\n",
        "\n",
        "# Convert into a Panda dataframe \n",
        "featuresdf = pd.DataFrame(features, columns=['feature','class_label','fold'])"
      ],
      "execution_count": 0,
      "outputs": []
    },
    {
      "cell_type": "markdown",
      "metadata": {
        "id": "2Uym5Wxn_sml",
        "colab_type": "text"
      },
      "source": [
        "Example of on feature"
      ]
    },
    {
      "cell_type": "markdown",
      "metadata": {
        "id": "4MdB9YgJ__6J",
        "colab_type": "text"
      },
      "source": [
        "Explaination of librosa mfcc extraction"
      ]
    },
    {
      "cell_type": "code",
      "metadata": {
        "id": "K7QxSSbI-iaz",
        "colab_type": "code",
        "colab": {
          "base_uri": "https://localhost:8080/",
          "height": 248
        },
        "outputId": "75cb7488-770e-4372-d036-eab3708e6b54"
      },
      "source": [
        "print('Finished feature extraction from ', len(featuresdf), ' files')\n",
        "y, sr = librosa.load(us8k_path + '/' + 'fold1'+ '/' + '101415-3-0-2.wav', res_type='kaiser_fast')\n",
        "mfcc = librosa.feature.mfcc(y, sr, n_mfcc=40)\n",
        "mfccs_scaled = np.mean(mfccs.T,axis=0)\n",
        "plt.figure(figsize=(12, 4))\n",
        "librosa.display.specshow(mfcc_scaled,x_axis='time', y_axis='mel')\n",
        "plt.colorbar()\n",
        "plt.title('MFCC')\n",
        "plt.tight_layout()\n",
        "plt.show()"
      ],
      "execution_count": 10,
      "outputs": [
        {
          "output_type": "stream",
          "text": [
            "Finished feature extraction from  8732  files\n"
          ],
          "name": "stdout"
        },
        {
          "output_type": "error",
          "ename": "NameError",
          "evalue": "ignored",
          "traceback": [
            "\u001b[0;31m---------------------------------------------------------------------------\u001b[0m",
            "\u001b[0;31mNameError\u001b[0m                                 Traceback (most recent call last)",
            "\u001b[0;32m<ipython-input-10-cd6def977620>\u001b[0m in \u001b[0;36m<module>\u001b[0;34m()\u001b[0m\n\u001b[1;32m      2\u001b[0m \u001b[0my\u001b[0m\u001b[0;34m,\u001b[0m \u001b[0msr\u001b[0m \u001b[0;34m=\u001b[0m \u001b[0mlibrosa\u001b[0m\u001b[0;34m.\u001b[0m\u001b[0mload\u001b[0m\u001b[0;34m(\u001b[0m\u001b[0mus8k_path\u001b[0m \u001b[0;34m+\u001b[0m \u001b[0;34m'/'\u001b[0m \u001b[0;34m+\u001b[0m \u001b[0;34m'fold1'\u001b[0m\u001b[0;34m+\u001b[0m \u001b[0;34m'/'\u001b[0m \u001b[0;34m+\u001b[0m \u001b[0;34m'101415-3-0-2.wav'\u001b[0m\u001b[0;34m,\u001b[0m \u001b[0mres_type\u001b[0m\u001b[0;34m=\u001b[0m\u001b[0;34m'kaiser_fast'\u001b[0m\u001b[0;34m)\u001b[0m\u001b[0;34m\u001b[0m\u001b[0;34m\u001b[0m\u001b[0m\n\u001b[1;32m      3\u001b[0m \u001b[0mmfcc\u001b[0m \u001b[0;34m=\u001b[0m \u001b[0mlibrosa\u001b[0m\u001b[0;34m.\u001b[0m\u001b[0mfeature\u001b[0m\u001b[0;34m.\u001b[0m\u001b[0mmfcc\u001b[0m\u001b[0;34m(\u001b[0m\u001b[0my\u001b[0m\u001b[0;34m,\u001b[0m \u001b[0msr\u001b[0m\u001b[0;34m,\u001b[0m \u001b[0mn_mfcc\u001b[0m\u001b[0;34m=\u001b[0m\u001b[0;36m40\u001b[0m\u001b[0;34m)\u001b[0m\u001b[0;34m\u001b[0m\u001b[0;34m\u001b[0m\u001b[0m\n\u001b[0;32m----> 4\u001b[0;31m \u001b[0mmfccs_scaled\u001b[0m \u001b[0;34m=\u001b[0m \u001b[0mnp\u001b[0m\u001b[0;34m.\u001b[0m\u001b[0mmean\u001b[0m\u001b[0;34m(\u001b[0m\u001b[0mmfccs\u001b[0m\u001b[0;34m.\u001b[0m\u001b[0mT\u001b[0m\u001b[0;34m,\u001b[0m\u001b[0maxis\u001b[0m\u001b[0;34m=\u001b[0m\u001b[0;36m0\u001b[0m\u001b[0;34m)\u001b[0m\u001b[0;34m\u001b[0m\u001b[0;34m\u001b[0m\u001b[0m\n\u001b[0m\u001b[1;32m      5\u001b[0m \u001b[0mplt\u001b[0m\u001b[0;34m.\u001b[0m\u001b[0mfigure\u001b[0m\u001b[0;34m(\u001b[0m\u001b[0mfigsize\u001b[0m\u001b[0;34m=\u001b[0m\u001b[0;34m(\u001b[0m\u001b[0;36m12\u001b[0m\u001b[0;34m,\u001b[0m \u001b[0;36m4\u001b[0m\u001b[0;34m)\u001b[0m\u001b[0;34m)\u001b[0m\u001b[0;34m\u001b[0m\u001b[0;34m\u001b[0m\u001b[0m\n\u001b[1;32m      6\u001b[0m \u001b[0mlibrosa\u001b[0m\u001b[0;34m.\u001b[0m\u001b[0mdisplay\u001b[0m\u001b[0;34m.\u001b[0m\u001b[0mspecshow\u001b[0m\u001b[0;34m(\u001b[0m\u001b[0mmfcc_scaled\u001b[0m\u001b[0;34m,\u001b[0m\u001b[0mx_axis\u001b[0m\u001b[0;34m=\u001b[0m\u001b[0;34m'time'\u001b[0m\u001b[0;34m,\u001b[0m \u001b[0my_axis\u001b[0m\u001b[0;34m=\u001b[0m\u001b[0;34m'mel'\u001b[0m\u001b[0;34m)\u001b[0m\u001b[0;34m\u001b[0m\u001b[0;34m\u001b[0m\u001b[0m\n",
            "\u001b[0;31mNameError\u001b[0m: name 'mfccs' is not defined"
          ]
        }
      ]
    },
    {
      "cell_type": "code",
      "metadata": {
        "id": "SVpDxr8DzZX9",
        "colab_type": "code",
        "colab": {
          "base_uri": "https://localhost:8080/",
          "height": 136
        },
        "outputId": "c930a6e6-c2e6-4f33-bfe9-7cadf3c666a6"
      },
      "source": [
        "from sklearn.preprocessing import LabelEncoder\n",
        "from keras.utils import to_categorical\n",
        "\n",
        "# Convert features and corresponding classification labels into numpy arrays\n",
        "X = np.array(featuresdf.feature.tolist())\n",
        "y = np.array(featuresdf.class_label.tolist())\n",
        "\n",
        "# Encode the classification labels\n",
        "le = LabelEncoder()\n",
        "yy = to_categorical(le.fit_transform(y)) \n",
        "\n",
        "# split the dataset \n",
        "from sklearn.model_selection import train_test_split \n",
        "\n",
        "x_train, x_test, y_train, y_test = train_test_split(X, yy, test_size=0.2, random_state = 42)\n"
      ],
      "execution_count": 20,
      "outputs": [
        {
          "output_type": "stream",
          "text": [
            "[[0. 0. 0. ... 0. 1. 0.]\n",
            " [0. 0. 0. ... 0. 0. 1.]\n",
            " [0. 0. 0. ... 0. 0. 0.]\n",
            " ...\n",
            " [0. 0. 0. ... 0. 0. 0.]\n",
            " [0. 0. 0. ... 0. 0. 1.]\n",
            " [0. 0. 0. ... 0. 1. 0.]]\n"
          ],
          "name": "stdout"
        }
      ]
    },
    {
      "cell_type": "code",
      "metadata": {
        "id": "M8MZ749LAxo3",
        "colab_type": "code",
        "colab": {}
      },
      "source": [
        "from keras.models import Sequential\n",
        "from keras.layers import Dense, Dropout, Activation, Flatten\n",
        "from keras.layers import Convolution2D, MaxPooling2D\n",
        "from keras.optimizers import Adam\n",
        "from keras.utils import np_utils\n",
        "from sklearn import metrics \n",
        "\n",
        "num_labels = yy.shape[1]\n",
        "filter_size = 2\n",
        "\n",
        "# Construct model \n",
        "model = Sequential()\n",
        "\n",
        "model.add(Dense(256, input_shape=(40,)))\n",
        "model.add(Activation('relu'))\n",
        "model.add(Dropout(0.5))\n",
        "\n",
        "model.add(Dense(256))\n",
        "model.add(Activation('relu'))\n",
        "model.add(Dropout(0.5))\n",
        "\n",
        "model.add(Dense(num_labels))\n",
        "model.add(Activation('softmax'))"
      ],
      "execution_count": 0,
      "outputs": []
    },
    {
      "cell_type": "code",
      "metadata": {
        "id": "DOHA3_tuA6yF",
        "colab_type": "code",
        "colab": {}
      },
      "source": [
        "\n",
        "# Compile the model\n",
        "model.compile(loss='categorical_crossentropy', metrics=['accuracy'], optimizer='adam')"
      ],
      "execution_count": 0,
      "outputs": []
    },
    {
      "cell_type": "code",
      "metadata": {
        "id": "ryBEXjk6A_Yu",
        "colab_type": "code",
        "colab": {
          "base_uri": "https://localhost:8080/",
          "height": 442
        },
        "outputId": "35e87a57-7f69-4190-b201-71a9ef3c6cb3"
      },
      "source": [
        "\n",
        "# Display model architecture summary \n",
        "model.summary()\n",
        "\n",
        "# Calculate pre-training accuracy \n",
        "score = model.evaluate(x_test, y_test, verbose=0)\n",
        "accuracy = 100*score[1]\n",
        "\n",
        "print(\"Pre-training accuracy: %.4f%%\" % accuracy)"
      ],
      "execution_count": 23,
      "outputs": [
        {
          "output_type": "stream",
          "text": [
            "Model: \"sequential_1\"\n",
            "_________________________________________________________________\n",
            "Layer (type)                 Output Shape              Param #   \n",
            "=================================================================\n",
            "dense_1 (Dense)              (None, 256)               10496     \n",
            "_________________________________________________________________\n",
            "activation_1 (Activation)    (None, 256)               0         \n",
            "_________________________________________________________________\n",
            "dropout_1 (Dropout)          (None, 256)               0         \n",
            "_________________________________________________________________\n",
            "dense_2 (Dense)              (None, 256)               65792     \n",
            "_________________________________________________________________\n",
            "activation_2 (Activation)    (None, 256)               0         \n",
            "_________________________________________________________________\n",
            "dropout_2 (Dropout)          (None, 256)               0         \n",
            "_________________________________________________________________\n",
            "dense_3 (Dense)              (None, 10)                2570      \n",
            "_________________________________________________________________\n",
            "activation_3 (Activation)    (None, 10)                0         \n",
            "=================================================================\n",
            "Total params: 78,858\n",
            "Trainable params: 78,858\n",
            "Non-trainable params: 0\n",
            "_________________________________________________________________\n",
            "Pre-training accuracy: 6.6400%\n"
          ],
          "name": "stdout"
        }
      ]
    },
    {
      "cell_type": "code",
      "metadata": {
        "id": "ANcbhRp5BDMm",
        "colab_type": "code",
        "colab": {
          "base_uri": "https://localhost:8080/",
          "height": 1000
        },
        "outputId": "483c88dd-9d4a-4ed1-d9c2-f98bbb775d19"
      },
      "source": [
        "\n",
        "from keras.callbacks import ModelCheckpoint \n",
        "from datetime import datetime \n",
        "\n",
        "num_epochs = 100\n",
        "num_batch_size = 32\n",
        "\n",
        "checkpointer = ModelCheckpoint(filepath='saved_models/weights.best.basic_mlp.hdf5', \n",
        "                               verbose=1, save_best_only=True)\n",
        "start = datetime.now()\n",
        "\n",
        "model.fit(x_train, y_train, batch_size=num_batch_size, epochs=num_epochs, validation_data=(x_test, y_test), callbacks=[checkpointer], verbose=1)\n",
        "\n",
        "\n",
        "duration = datetime.now() - start\n",
        "print(\"Training completed in time: \", duration)"
      ],
      "execution_count": 26,
      "outputs": [
        {
          "output_type": "stream",
          "text": [
            "Train on 6985 samples, validate on 1747 samples\n",
            "Epoch 1/100\n",
            "6985/6985 [==============================] - 1s 80us/step - loss: 2.0935 - accuracy: 0.2763 - val_loss: 1.9455 - val_accuracy: 0.3440\n",
            "\n",
            "Epoch 00001: val_loss improved from inf to 1.94553, saving model to saved_models/weights.best.basic_mlp.hdf5\n",
            "Epoch 2/100\n",
            "6985/6985 [==============================] - 1s 80us/step - loss: 1.9384 - accuracy: 0.3194 - val_loss: 1.7383 - val_accuracy: 0.4379\n",
            "\n",
            "Epoch 00002: val_loss improved from 1.94553 to 1.73827, saving model to saved_models/weights.best.basic_mlp.hdf5\n",
            "Epoch 3/100\n",
            "6985/6985 [==============================] - 1s 78us/step - loss: 1.8149 - accuracy: 0.3516 - val_loss: 1.6516 - val_accuracy: 0.4436\n",
            "\n",
            "Epoch 00003: val_loss improved from 1.73827 to 1.65163, saving model to saved_models/weights.best.basic_mlp.hdf5\n",
            "Epoch 4/100\n",
            "6985/6985 [==============================] - 1s 80us/step - loss: 1.7031 - accuracy: 0.3950 - val_loss: 1.4940 - val_accuracy: 0.4986\n",
            "\n",
            "Epoch 00004: val_loss improved from 1.65163 to 1.49403, saving model to saved_models/weights.best.basic_mlp.hdf5\n",
            "Epoch 5/100\n",
            "6985/6985 [==============================] - 1s 78us/step - loss: 1.6094 - accuracy: 0.4351 - val_loss: 1.3743 - val_accuracy: 0.5730\n",
            "\n",
            "Epoch 00005: val_loss improved from 1.49403 to 1.37428, saving model to saved_models/weights.best.basic_mlp.hdf5\n",
            "Epoch 6/100\n",
            "6985/6985 [==============================] - 1s 80us/step - loss: 1.5192 - accuracy: 0.4740 - val_loss: 1.3042 - val_accuracy: 0.5970\n",
            "\n",
            "Epoch 00006: val_loss improved from 1.37428 to 1.30422, saving model to saved_models/weights.best.basic_mlp.hdf5\n",
            "Epoch 7/100\n",
            "6985/6985 [==============================] - 1s 81us/step - loss: 1.4507 - accuracy: 0.4994 - val_loss: 1.2102 - val_accuracy: 0.6176\n",
            "\n",
            "Epoch 00007: val_loss improved from 1.30422 to 1.21023, saving model to saved_models/weights.best.basic_mlp.hdf5\n",
            "Epoch 8/100\n",
            "6985/6985 [==============================] - 1s 79us/step - loss: 1.3843 - accuracy: 0.5160 - val_loss: 1.1434 - val_accuracy: 0.6394\n",
            "\n",
            "Epoch 00008: val_loss improved from 1.21023 to 1.14339, saving model to saved_models/weights.best.basic_mlp.hdf5\n",
            "Epoch 9/100\n",
            "6985/6985 [==============================] - 1s 80us/step - loss: 1.3017 - accuracy: 0.5552 - val_loss: 1.1169 - val_accuracy: 0.6543\n",
            "\n",
            "Epoch 00009: val_loss improved from 1.14339 to 1.11687, saving model to saved_models/weights.best.basic_mlp.hdf5\n",
            "Epoch 10/100\n",
            "6985/6985 [==============================] - 1s 80us/step - loss: 1.2431 - accuracy: 0.5817 - val_loss: 1.0001 - val_accuracy: 0.6766\n",
            "\n",
            "Epoch 00010: val_loss improved from 1.11687 to 1.00009, saving model to saved_models/weights.best.basic_mlp.hdf5\n",
            "Epoch 11/100\n",
            "6985/6985 [==============================] - 1s 79us/step - loss: 1.2021 - accuracy: 0.5871 - val_loss: 0.9655 - val_accuracy: 0.6938\n",
            "\n",
            "Epoch 00011: val_loss improved from 1.00009 to 0.96555, saving model to saved_models/weights.best.basic_mlp.hdf5\n",
            "Epoch 12/100\n",
            "6985/6985 [==============================] - 1s 78us/step - loss: 1.1701 - accuracy: 0.6034 - val_loss: 0.9418 - val_accuracy: 0.7212\n",
            "\n",
            "Epoch 00012: val_loss improved from 0.96555 to 0.94179, saving model to saved_models/weights.best.basic_mlp.hdf5\n",
            "Epoch 13/100\n",
            "6985/6985 [==============================] - 1s 81us/step - loss: 1.1049 - accuracy: 0.6196 - val_loss: 0.8675 - val_accuracy: 0.7258\n",
            "\n",
            "Epoch 00013: val_loss improved from 0.94179 to 0.86753, saving model to saved_models/weights.best.basic_mlp.hdf5\n",
            "Epoch 14/100\n",
            "6985/6985 [==============================] - 1s 82us/step - loss: 1.0708 - accuracy: 0.6349 - val_loss: 0.8977 - val_accuracy: 0.7104\n",
            "\n",
            "Epoch 00014: val_loss did not improve from 0.86753\n",
            "Epoch 15/100\n",
            "6985/6985 [==============================] - 1s 80us/step - loss: 1.0563 - accuracy: 0.6397 - val_loss: 0.8533 - val_accuracy: 0.7149\n",
            "\n",
            "Epoch 00015: val_loss improved from 0.86753 to 0.85327, saving model to saved_models/weights.best.basic_mlp.hdf5\n",
            "Epoch 16/100\n",
            "6985/6985 [==============================] - 1s 80us/step - loss: 1.0133 - accuracy: 0.6531 - val_loss: 0.8255 - val_accuracy: 0.7270\n",
            "\n",
            "Epoch 00016: val_loss improved from 0.85327 to 0.82546, saving model to saved_models/weights.best.basic_mlp.hdf5\n",
            "Epoch 17/100\n",
            "6985/6985 [==============================] - 1s 79us/step - loss: 0.9880 - accuracy: 0.6634 - val_loss: 0.7867 - val_accuracy: 0.7550\n",
            "\n",
            "Epoch 00017: val_loss improved from 0.82546 to 0.78668, saving model to saved_models/weights.best.basic_mlp.hdf5\n",
            "Epoch 18/100\n",
            "6985/6985 [==============================] - 1s 80us/step - loss: 0.9557 - accuracy: 0.6697 - val_loss: 0.7787 - val_accuracy: 0.7487\n",
            "\n",
            "Epoch 00018: val_loss improved from 0.78668 to 0.77871, saving model to saved_models/weights.best.basic_mlp.hdf5\n",
            "Epoch 19/100\n",
            "6985/6985 [==============================] - 1s 80us/step - loss: 0.9453 - accuracy: 0.6783 - val_loss: 0.7738 - val_accuracy: 0.7607\n",
            "\n",
            "Epoch 00019: val_loss improved from 0.77871 to 0.77381, saving model to saved_models/weights.best.basic_mlp.hdf5\n",
            "Epoch 20/100\n",
            "6985/6985 [==============================] - 1s 80us/step - loss: 0.9273 - accuracy: 0.6789 - val_loss: 0.7052 - val_accuracy: 0.7888\n",
            "\n",
            "Epoch 00020: val_loss improved from 0.77381 to 0.70516, saving model to saved_models/weights.best.basic_mlp.hdf5\n",
            "Epoch 21/100\n",
            "6985/6985 [==============================] - 1s 82us/step - loss: 0.8865 - accuracy: 0.6968 - val_loss: 0.7309 - val_accuracy: 0.7699\n",
            "\n",
            "Epoch 00021: val_loss did not improve from 0.70516\n",
            "Epoch 22/100\n",
            "6985/6985 [==============================] - 1s 80us/step - loss: 0.8655 - accuracy: 0.7051 - val_loss: 0.7047 - val_accuracy: 0.7836\n",
            "\n",
            "Epoch 00022: val_loss improved from 0.70516 to 0.70474, saving model to saved_models/weights.best.basic_mlp.hdf5\n",
            "Epoch 23/100\n",
            "6985/6985 [==============================] - 1s 85us/step - loss: 0.8521 - accuracy: 0.7102 - val_loss: 0.6824 - val_accuracy: 0.8037\n",
            "\n",
            "Epoch 00023: val_loss improved from 0.70474 to 0.68242, saving model to saved_models/weights.best.basic_mlp.hdf5\n",
            "Epoch 24/100\n",
            "6985/6985 [==============================] - 1s 81us/step - loss: 0.8417 - accuracy: 0.7138 - val_loss: 0.6639 - val_accuracy: 0.7974\n",
            "\n",
            "Epoch 00024: val_loss improved from 0.68242 to 0.66386, saving model to saved_models/weights.best.basic_mlp.hdf5\n",
            "Epoch 25/100\n",
            "6985/6985 [==============================] - 1s 82us/step - loss: 0.8469 - accuracy: 0.7039 - val_loss: 0.6653 - val_accuracy: 0.8048\n",
            "\n",
            "Epoch 00025: val_loss did not improve from 0.66386\n",
            "Epoch 26/100\n",
            "6985/6985 [==============================] - 1s 83us/step - loss: 0.8074 - accuracy: 0.7233 - val_loss: 0.6238 - val_accuracy: 0.8134\n",
            "\n",
            "Epoch 00026: val_loss improved from 0.66386 to 0.62382, saving model to saved_models/weights.best.basic_mlp.hdf5\n",
            "Epoch 27/100\n",
            "6985/6985 [==============================] - 1s 81us/step - loss: 0.8011 - accuracy: 0.7297 - val_loss: 0.6298 - val_accuracy: 0.8105\n",
            "\n",
            "Epoch 00027: val_loss did not improve from 0.62382\n",
            "Epoch 28/100\n",
            "6985/6985 [==============================] - 1s 89us/step - loss: 0.8023 - accuracy: 0.7309 - val_loss: 0.5980 - val_accuracy: 0.8128\n",
            "\n",
            "Epoch 00028: val_loss improved from 0.62382 to 0.59800, saving model to saved_models/weights.best.basic_mlp.hdf5\n",
            "Epoch 29/100\n",
            "6985/6985 [==============================] - 1s 83us/step - loss: 0.7821 - accuracy: 0.7382 - val_loss: 0.6055 - val_accuracy: 0.8174\n",
            "\n",
            "Epoch 00029: val_loss did not improve from 0.59800\n",
            "Epoch 30/100\n",
            "6985/6985 [==============================] - 1s 84us/step - loss: 0.7544 - accuracy: 0.7467 - val_loss: 0.5917 - val_accuracy: 0.8237\n",
            "\n",
            "Epoch 00030: val_loss improved from 0.59800 to 0.59171, saving model to saved_models/weights.best.basic_mlp.hdf5\n",
            "Epoch 31/100\n",
            "6985/6985 [==============================] - 1s 83us/step - loss: 0.7482 - accuracy: 0.7424 - val_loss: 0.6011 - val_accuracy: 0.8031\n",
            "\n",
            "Epoch 00031: val_loss did not improve from 0.59171\n",
            "Epoch 32/100\n",
            "6985/6985 [==============================] - 1s 84us/step - loss: 0.7438 - accuracy: 0.7424 - val_loss: 0.5494 - val_accuracy: 0.8334\n",
            "\n",
            "Epoch 00032: val_loss improved from 0.59171 to 0.54941, saving model to saved_models/weights.best.basic_mlp.hdf5\n",
            "Epoch 33/100\n",
            "6985/6985 [==============================] - 1s 84us/step - loss: 0.7287 - accuracy: 0.7493 - val_loss: 0.5715 - val_accuracy: 0.8363\n",
            "\n",
            "Epoch 00033: val_loss did not improve from 0.54941\n",
            "Epoch 34/100\n",
            "6985/6985 [==============================] - 1s 82us/step - loss: 0.7174 - accuracy: 0.7496 - val_loss: 0.5761 - val_accuracy: 0.8163\n",
            "\n",
            "Epoch 00034: val_loss did not improve from 0.54941\n",
            "Epoch 35/100\n",
            "6985/6985 [==============================] - 1s 83us/step - loss: 0.7304 - accuracy: 0.7459 - val_loss: 0.5785 - val_accuracy: 0.8220\n",
            "\n",
            "Epoch 00035: val_loss did not improve from 0.54941\n",
            "Epoch 36/100\n",
            "6985/6985 [==============================] - 1s 84us/step - loss: 0.6975 - accuracy: 0.7573 - val_loss: 0.5373 - val_accuracy: 0.8346\n",
            "\n",
            "Epoch 00036: val_loss improved from 0.54941 to 0.53732, saving model to saved_models/weights.best.basic_mlp.hdf5\n",
            "Epoch 37/100\n",
            "6985/6985 [==============================] - 1s 86us/step - loss: 0.7157 - accuracy: 0.7573 - val_loss: 0.5528 - val_accuracy: 0.8300\n",
            "\n",
            "Epoch 00037: val_loss did not improve from 0.53732\n",
            "Epoch 38/100\n",
            "6985/6985 [==============================] - 1s 82us/step - loss: 0.6689 - accuracy: 0.7725 - val_loss: 0.5364 - val_accuracy: 0.8260\n",
            "\n",
            "Epoch 00038: val_loss improved from 0.53732 to 0.53638, saving model to saved_models/weights.best.basic_mlp.hdf5\n",
            "Epoch 39/100\n",
            "6985/6985 [==============================] - 1s 83us/step - loss: 0.6834 - accuracy: 0.7718 - val_loss: 0.5481 - val_accuracy: 0.8380\n",
            "\n",
            "Epoch 00039: val_loss did not improve from 0.53638\n",
            "Epoch 40/100\n",
            "6985/6985 [==============================] - 1s 84us/step - loss: 0.6962 - accuracy: 0.7645 - val_loss: 0.5409 - val_accuracy: 0.8409\n",
            "\n",
            "Epoch 00040: val_loss did not improve from 0.53638\n",
            "Epoch 41/100\n",
            "6985/6985 [==============================] - 1s 84us/step - loss: 0.6748 - accuracy: 0.7688 - val_loss: 0.5277 - val_accuracy: 0.8351\n",
            "\n",
            "Epoch 00041: val_loss improved from 0.53638 to 0.52770, saving model to saved_models/weights.best.basic_mlp.hdf5\n",
            "Epoch 42/100\n",
            "6985/6985 [==============================] - 1s 84us/step - loss: 0.6819 - accuracy: 0.7596 - val_loss: 0.5328 - val_accuracy: 0.8403\n",
            "\n",
            "Epoch 00042: val_loss did not improve from 0.52770\n",
            "Epoch 43/100\n",
            "6985/6985 [==============================] - 1s 83us/step - loss: 0.6566 - accuracy: 0.7764 - val_loss: 0.5162 - val_accuracy: 0.8334\n",
            "\n",
            "Epoch 00043: val_loss improved from 0.52770 to 0.51621, saving model to saved_models/weights.best.basic_mlp.hdf5\n",
            "Epoch 44/100\n",
            "6985/6985 [==============================] - 1s 83us/step - loss: 0.6565 - accuracy: 0.7762 - val_loss: 0.5145 - val_accuracy: 0.8351\n",
            "\n",
            "Epoch 00044: val_loss improved from 0.51621 to 0.51454, saving model to saved_models/weights.best.basic_mlp.hdf5\n",
            "Epoch 45/100\n",
            "6985/6985 [==============================] - 1s 82us/step - loss: 0.6498 - accuracy: 0.7818 - val_loss: 0.5026 - val_accuracy: 0.8437\n",
            "\n",
            "Epoch 00045: val_loss improved from 0.51454 to 0.50263, saving model to saved_models/weights.best.basic_mlp.hdf5\n",
            "Epoch 46/100\n",
            "6985/6985 [==============================] - 1s 79us/step - loss: 0.6292 - accuracy: 0.7840 - val_loss: 0.5147 - val_accuracy: 0.8477\n",
            "\n",
            "Epoch 00046: val_loss did not improve from 0.50263\n",
            "Epoch 47/100\n",
            "6985/6985 [==============================] - 1s 84us/step - loss: 0.6682 - accuracy: 0.7714 - val_loss: 0.5209 - val_accuracy: 0.8495\n",
            "\n",
            "Epoch 00047: val_loss did not improve from 0.50263\n",
            "Epoch 48/100\n",
            "6985/6985 [==============================] - 1s 78us/step - loss: 0.6358 - accuracy: 0.7795 - val_loss: 0.5104 - val_accuracy: 0.8449\n",
            "\n",
            "Epoch 00048: val_loss did not improve from 0.50263\n",
            "Epoch 49/100\n",
            "6985/6985 [==============================] - 1s 80us/step - loss: 0.6339 - accuracy: 0.7843 - val_loss: 0.4936 - val_accuracy: 0.8535\n",
            "\n",
            "Epoch 00049: val_loss improved from 0.50263 to 0.49363, saving model to saved_models/weights.best.basic_mlp.hdf5\n",
            "Epoch 50/100\n",
            "6985/6985 [==============================] - 1s 81us/step - loss: 0.6204 - accuracy: 0.7850 - val_loss: 0.4809 - val_accuracy: 0.8546\n",
            "\n",
            "Epoch 00050: val_loss improved from 0.49363 to 0.48086, saving model to saved_models/weights.best.basic_mlp.hdf5\n",
            "Epoch 51/100\n",
            "6985/6985 [==============================] - 1s 83us/step - loss: 0.6074 - accuracy: 0.7913 - val_loss: 0.4967 - val_accuracy: 0.8517\n",
            "\n",
            "Epoch 00051: val_loss did not improve from 0.48086\n",
            "Epoch 52/100\n",
            "6985/6985 [==============================] - 1s 79us/step - loss: 0.6258 - accuracy: 0.7874 - val_loss: 0.4899 - val_accuracy: 0.8472\n",
            "\n",
            "Epoch 00052: val_loss did not improve from 0.48086\n",
            "Epoch 53/100\n",
            "6985/6985 [==============================] - 1s 79us/step - loss: 0.6161 - accuracy: 0.7887 - val_loss: 0.4919 - val_accuracy: 0.8489\n",
            "\n",
            "Epoch 00053: val_loss did not improve from 0.48086\n",
            "Epoch 54/100\n",
            "6985/6985 [==============================] - 1s 79us/step - loss: 0.6156 - accuracy: 0.7874 - val_loss: 0.5168 - val_accuracy: 0.8460\n",
            "\n",
            "Epoch 00054: val_loss did not improve from 0.48086\n",
            "Epoch 55/100\n",
            "6985/6985 [==============================] - 1s 78us/step - loss: 0.5859 - accuracy: 0.8011 - val_loss: 0.4865 - val_accuracy: 0.8477\n",
            "\n",
            "Epoch 00055: val_loss did not improve from 0.48086\n",
            "Epoch 56/100\n",
            "6985/6985 [==============================] - 1s 79us/step - loss: 0.6361 - accuracy: 0.7832 - val_loss: 0.5107 - val_accuracy: 0.8483\n",
            "\n",
            "Epoch 00056: val_loss did not improve from 0.48086\n",
            "Epoch 57/100\n",
            "6985/6985 [==============================] - 1s 81us/step - loss: 0.6082 - accuracy: 0.7937 - val_loss: 0.4836 - val_accuracy: 0.8500\n",
            "\n",
            "Epoch 00057: val_loss did not improve from 0.48086\n",
            "Epoch 58/100\n",
            "6985/6985 [==============================] - 1s 80us/step - loss: 0.6101 - accuracy: 0.7928 - val_loss: 0.4846 - val_accuracy: 0.8529\n",
            "\n",
            "Epoch 00058: val_loss did not improve from 0.48086\n",
            "Epoch 59/100\n",
            "6985/6985 [==============================] - 1s 79us/step - loss: 0.5965 - accuracy: 0.7976 - val_loss: 0.4847 - val_accuracy: 0.8540\n",
            "\n",
            "Epoch 00059: val_loss did not improve from 0.48086\n",
            "Epoch 60/100\n",
            "6985/6985 [==============================] - 1s 80us/step - loss: 0.6029 - accuracy: 0.7989 - val_loss: 0.5045 - val_accuracy: 0.8540\n",
            "\n",
            "Epoch 00060: val_loss did not improve from 0.48086\n",
            "Epoch 61/100\n",
            "6985/6985 [==============================] - 1s 77us/step - loss: 0.5899 - accuracy: 0.7974 - val_loss: 0.4684 - val_accuracy: 0.8529\n",
            "\n",
            "Epoch 00061: val_loss improved from 0.48086 to 0.46843, saving model to saved_models/weights.best.basic_mlp.hdf5\n",
            "Epoch 62/100\n",
            "6985/6985 [==============================] - 1s 81us/step - loss: 0.5958 - accuracy: 0.8049 - val_loss: 0.4686 - val_accuracy: 0.8678\n",
            "\n",
            "Epoch 00062: val_loss did not improve from 0.46843\n",
            "Epoch 63/100\n",
            "6985/6985 [==============================] - 1s 79us/step - loss: 0.5964 - accuracy: 0.7994 - val_loss: 0.4897 - val_accuracy: 0.8615\n",
            "\n",
            "Epoch 00063: val_loss did not improve from 0.46843\n",
            "Epoch 64/100\n",
            "6985/6985 [==============================] - 1s 79us/step - loss: 0.5783 - accuracy: 0.8054 - val_loss: 0.4728 - val_accuracy: 0.8546\n",
            "\n",
            "Epoch 00064: val_loss did not improve from 0.46843\n",
            "Epoch 65/100\n",
            "6985/6985 [==============================] - 1s 79us/step - loss: 0.5893 - accuracy: 0.7957 - val_loss: 0.4496 - val_accuracy: 0.8540\n",
            "\n",
            "Epoch 00065: val_loss improved from 0.46843 to 0.44956, saving model to saved_models/weights.best.basic_mlp.hdf5\n",
            "Epoch 66/100\n",
            "6985/6985 [==============================] - 1s 80us/step - loss: 0.5884 - accuracy: 0.8007 - val_loss: 0.4651 - val_accuracy: 0.8598\n",
            "\n",
            "Epoch 00066: val_loss did not improve from 0.44956\n",
            "Epoch 67/100\n",
            "6985/6985 [==============================] - 1s 80us/step - loss: 0.5941 - accuracy: 0.8049 - val_loss: 0.4662 - val_accuracy: 0.8598\n",
            "\n",
            "Epoch 00067: val_loss did not improve from 0.44956\n",
            "Epoch 68/100\n",
            "6985/6985 [==============================] - 1s 78us/step - loss: 0.5672 - accuracy: 0.8023 - val_loss: 0.4514 - val_accuracy: 0.8746\n",
            "\n",
            "Epoch 00068: val_loss did not improve from 0.44956\n",
            "Epoch 69/100\n",
            "6985/6985 [==============================] - 1s 80us/step - loss: 0.5507 - accuracy: 0.8113 - val_loss: 0.4653 - val_accuracy: 0.8701\n",
            "\n",
            "Epoch 00069: val_loss did not improve from 0.44956\n",
            "Epoch 70/100\n",
            "6985/6985 [==============================] - 1s 81us/step - loss: 0.5825 - accuracy: 0.7993 - val_loss: 0.4743 - val_accuracy: 0.8643\n",
            "\n",
            "Epoch 00070: val_loss did not improve from 0.44956\n",
            "Epoch 71/100\n",
            "6985/6985 [==============================] - 1s 80us/step - loss: 0.5616 - accuracy: 0.8049 - val_loss: 0.4624 - val_accuracy: 0.8569\n",
            "\n",
            "Epoch 00071: val_loss did not improve from 0.44956\n",
            "Epoch 72/100\n",
            "6985/6985 [==============================] - 1s 80us/step - loss: 0.5684 - accuracy: 0.8070 - val_loss: 0.4694 - val_accuracy: 0.8649\n",
            "\n",
            "Epoch 00072: val_loss did not improve from 0.44956\n",
            "Epoch 73/100\n",
            "6985/6985 [==============================] - 1s 81us/step - loss: 0.5689 - accuracy: 0.8117 - val_loss: 0.4558 - val_accuracy: 0.8580\n",
            "\n",
            "Epoch 00073: val_loss did not improve from 0.44956\n",
            "Epoch 74/100\n",
            "6985/6985 [==============================] - 1s 78us/step - loss: 0.5575 - accuracy: 0.8105 - val_loss: 0.4630 - val_accuracy: 0.8586\n",
            "\n",
            "Epoch 00074: val_loss did not improve from 0.44956\n",
            "Epoch 75/100\n",
            "6985/6985 [==============================] - 1s 78us/step - loss: 0.5597 - accuracy: 0.8105 - val_loss: 0.4608 - val_accuracy: 0.8529\n",
            "\n",
            "Epoch 00075: val_loss did not improve from 0.44956\n",
            "Epoch 76/100\n",
            "6985/6985 [==============================] - 1s 80us/step - loss: 0.5317 - accuracy: 0.8189 - val_loss: 0.4462 - val_accuracy: 0.8643\n",
            "\n",
            "Epoch 00076: val_loss improved from 0.44956 to 0.44619, saving model to saved_models/weights.best.basic_mlp.hdf5\n",
            "Epoch 77/100\n",
            "6985/6985 [==============================] - 1s 76us/step - loss: 0.5577 - accuracy: 0.8147 - val_loss: 0.4569 - val_accuracy: 0.8575\n",
            "\n",
            "Epoch 00077: val_loss did not improve from 0.44619\n",
            "Epoch 78/100\n",
            "6985/6985 [==============================] - 1s 80us/step - loss: 0.5548 - accuracy: 0.8137 - val_loss: 0.4720 - val_accuracy: 0.8615\n",
            "\n",
            "Epoch 00078: val_loss did not improve from 0.44619\n",
            "Epoch 79/100\n",
            "6985/6985 [==============================] - 1s 78us/step - loss: 0.5520 - accuracy: 0.8147 - val_loss: 0.4336 - val_accuracy: 0.8643\n",
            "\n",
            "Epoch 00079: val_loss improved from 0.44619 to 0.43363, saving model to saved_models/weights.best.basic_mlp.hdf5\n",
            "Epoch 80/100\n",
            "6985/6985 [==============================] - 1s 81us/step - loss: 0.5224 - accuracy: 0.8269 - val_loss: 0.4426 - val_accuracy: 0.8580\n",
            "\n",
            "Epoch 00080: val_loss did not improve from 0.43363\n",
            "Epoch 81/100\n",
            "6985/6985 [==============================] - 1s 78us/step - loss: 0.5589 - accuracy: 0.8107 - val_loss: 0.4373 - val_accuracy: 0.8746\n",
            "\n",
            "Epoch 00081: val_loss did not improve from 0.43363\n",
            "Epoch 82/100\n",
            "6985/6985 [==============================] - 1s 80us/step - loss: 0.5665 - accuracy: 0.8127 - val_loss: 0.4340 - val_accuracy: 0.8643\n",
            "\n",
            "Epoch 00082: val_loss did not improve from 0.43363\n",
            "Epoch 83/100\n",
            "6985/6985 [==============================] - 1s 80us/step - loss: 0.5419 - accuracy: 0.8170 - val_loss: 0.4501 - val_accuracy: 0.8620\n",
            "\n",
            "Epoch 00083: val_loss did not improve from 0.43363\n",
            "Epoch 84/100\n",
            "6985/6985 [==============================] - 1s 80us/step - loss: 0.5475 - accuracy: 0.8119 - val_loss: 0.4520 - val_accuracy: 0.8540\n",
            "\n",
            "Epoch 00084: val_loss did not improve from 0.43363\n",
            "Epoch 85/100\n",
            "6985/6985 [==============================] - 1s 85us/step - loss: 0.5499 - accuracy: 0.8137 - val_loss: 0.4642 - val_accuracy: 0.8558\n",
            "\n",
            "Epoch 00085: val_loss did not improve from 0.43363\n",
            "Epoch 86/100\n",
            "6985/6985 [==============================] - 1s 80us/step - loss: 0.5388 - accuracy: 0.8198 - val_loss: 0.4502 - val_accuracy: 0.8649\n",
            "\n",
            "Epoch 00086: val_loss did not improve from 0.43363\n",
            "Epoch 87/100\n",
            "6985/6985 [==============================] - 1s 81us/step - loss: 0.5218 - accuracy: 0.8222 - val_loss: 0.4404 - val_accuracy: 0.8706\n",
            "\n",
            "Epoch 00087: val_loss did not improve from 0.43363\n",
            "Epoch 88/100\n",
            "6985/6985 [==============================] - 1s 79us/step - loss: 0.5270 - accuracy: 0.8193 - val_loss: 0.4256 - val_accuracy: 0.8655\n",
            "\n",
            "Epoch 00088: val_loss improved from 0.43363 to 0.42561, saving model to saved_models/weights.best.basic_mlp.hdf5\n",
            "Epoch 89/100\n",
            "6985/6985 [==============================] - 1s 80us/step - loss: 0.5383 - accuracy: 0.8185 - val_loss: 0.4250 - val_accuracy: 0.8775\n",
            "\n",
            "Epoch 00089: val_loss improved from 0.42561 to 0.42499, saving model to saved_models/weights.best.basic_mlp.hdf5\n",
            "Epoch 90/100\n",
            "6985/6985 [==============================] - 1s 80us/step - loss: 0.5221 - accuracy: 0.8218 - val_loss: 0.4347 - val_accuracy: 0.8689\n",
            "\n",
            "Epoch 00090: val_loss did not improve from 0.42499\n",
            "Epoch 91/100\n",
            "6985/6985 [==============================] - 1s 81us/step - loss: 0.5501 - accuracy: 0.8147 - val_loss: 0.4196 - val_accuracy: 0.8695\n",
            "\n",
            "Epoch 00091: val_loss improved from 0.42499 to 0.41957, saving model to saved_models/weights.best.basic_mlp.hdf5\n",
            "Epoch 92/100\n",
            "6985/6985 [==============================] - 1s 82us/step - loss: 0.5343 - accuracy: 0.8206 - val_loss: 0.4359 - val_accuracy: 0.8724\n",
            "\n",
            "Epoch 00092: val_loss did not improve from 0.41957\n",
            "Epoch 93/100\n",
            "6985/6985 [==============================] - 1s 78us/step - loss: 0.5221 - accuracy: 0.8241 - val_loss: 0.4306 - val_accuracy: 0.8724\n",
            "\n",
            "Epoch 00093: val_loss did not improve from 0.41957\n",
            "Epoch 94/100\n",
            "6985/6985 [==============================] - 1s 80us/step - loss: 0.5207 - accuracy: 0.8208 - val_loss: 0.4081 - val_accuracy: 0.8775\n",
            "\n",
            "Epoch 00094: val_loss improved from 0.41957 to 0.40807, saving model to saved_models/weights.best.basic_mlp.hdf5\n",
            "Epoch 95/100\n",
            "6985/6985 [==============================] - 1s 79us/step - loss: 0.5189 - accuracy: 0.8190 - val_loss: 0.4108 - val_accuracy: 0.8695\n",
            "\n",
            "Epoch 00095: val_loss did not improve from 0.40807\n",
            "Epoch 96/100\n",
            "6985/6985 [==============================] - 1s 80us/step - loss: 0.5225 - accuracy: 0.8239 - val_loss: 0.4194 - val_accuracy: 0.8746\n",
            "\n",
            "Epoch 00096: val_loss did not improve from 0.40807\n",
            "Epoch 97/100\n",
            "6985/6985 [==============================] - 1s 78us/step - loss: 0.5155 - accuracy: 0.8233 - val_loss: 0.4278 - val_accuracy: 0.8729\n",
            "\n",
            "Epoch 00097: val_loss did not improve from 0.40807\n",
            "Epoch 98/100\n",
            "6985/6985 [==============================] - 1s 80us/step - loss: 0.5200 - accuracy: 0.8251 - val_loss: 0.4374 - val_accuracy: 0.8706\n",
            "\n",
            "Epoch 00098: val_loss did not improve from 0.40807\n",
            "Epoch 99/100\n",
            "6985/6985 [==============================] - 1s 79us/step - loss: 0.4939 - accuracy: 0.8282 - val_loss: 0.4297 - val_accuracy: 0.8775\n",
            "\n",
            "Epoch 00099: val_loss did not improve from 0.40807\n",
            "Epoch 100/100\n",
            "6985/6985 [==============================] - 1s 80us/step - loss: 0.5012 - accuracy: 0.8265 - val_loss: 0.4208 - val_accuracy: 0.8764\n",
            "\n",
            "Epoch 00100: val_loss did not improve from 0.40807\n",
            "Training completed in time:  0:00:57.407697\n"
          ],
          "name": "stdout"
        }
      ]
    },
    {
      "cell_type": "code",
      "metadata": {
        "id": "sJZg9HNGBGRn",
        "colab_type": "code",
        "colab": {
          "base_uri": "https://localhost:8080/",
          "height": 51
        },
        "outputId": "0a7b2dfa-5dd4-42e6-e917-e08de85ee757"
      },
      "source": [
        "# Evaluating the model on the training and testing set\n",
        "score = model.evaluate(x_train, y_train, verbose=0)\n",
        "print(\"Training Accuracy: \", score[1])\n",
        "\n",
        "score = model.evaluate(x_test, y_test, verbose=0)\n",
        "print(\"Testing Accuracy: \", score[1])"
      ],
      "execution_count": 27,
      "outputs": [
        {
          "output_type": "stream",
          "text": [
            "Training Accuracy:  0.9331424236297607\n",
            "Testing Accuracy:  0.8763594627380371\n"
          ],
          "name": "stdout"
        }
      ]
    }
  ]
}